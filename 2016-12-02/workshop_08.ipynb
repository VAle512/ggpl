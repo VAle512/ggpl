{
 "cells": [
  {
   "cell_type": "markdown",
   "metadata": {},
   "source": [
    "# Workshop_08"
   ]
  },
  {
   "cell_type": "markdown",
   "metadata": {},
   "source": [
    "Il seguente workshop ha lo scopo di modellare la piantina 3D di un'abitazione.  \n",
    "Ai fini dello svolgimento dello stesso si è scelto di modellare la piantina in figura."
   ]
  },
  {
   "cell_type": "markdown",
   "metadata": {},
   "source": [
    "<img src=\"jupyter_images/workshop_08_piantina.jpg\">  "
   ]
  },
  {
   "cell_type": "markdown",
   "metadata": {},
   "source": [
    "## File .svg\n",
    "Per prima cosa, con il supporto del programma [Inkscape](https://inkscape.org/it/), sono stati creati i seguenti file .svg, che rappresentano i contorni dei muri interni ed esterni della casa, oltre  ai luoghi dove andranno lasciati dei buchi, ovvero dove ipoteticamente andranno posizionate porte e finestre.  \n",
    "In questo notebook è risultato necessario inserire immagini .png, i file .svg originali sono posizionati nella cartella **\"svg_images\"** del progetto."
   ]
  },
  {
   "cell_type": "markdown",
   "metadata": {},
   "source": [
    "<table>\n",
    "<tbody>\n",
    "<tr>\n",
    "<td>Muri esterni\n",
    "<img src=\"jupyter_images/workshop_08_muri_esterni.png\"></td>\n",
    "<td>Muri interni  \n",
    "<img src=\"jupyter_images/workshop_08_muri_interni.png\"></td></tr>\n",
    "<tr>\n",
    "<td>Finestre\n",
    "<img src=\"jupyter_images/workshop_08_finestre.png\"></td>\n",
    "<td>Porte\n",
    "<img src=\"jupyter_images/workshop_08_porte.png\"></td></tr>\n",
    "</tbody>\n",
    "</table>"
   ]
  },
  {
   "cell_type": "markdown",
   "metadata": {},
   "source": [
    "## File .lines\n",
    "Successivamente, utilizzando il tool [svg2lines](https://github.com/cvdlab/svg2lines), i file .svg sono stati trasformati nei seguenti file .lines, i quali serviranno come input del codice sviluppato. Per poter essere correttamente utilizzati questi vanno posizionati nella cartella **\"lines\"** del progetto."
   ]
  },
  {
   "cell_type": "markdown",
   "metadata": {},
   "source": [
    "### Muri esterni  \n",
    "35.692573,45.607694,35.692573,226.19885  \n",
    "35.692573,226.19885,122.84190000000001,225.88423  \n",
    "122.84190000000001,225.88423,122.84190000000001,174.91598  \n",
    "122.84190000000001,174.91598,201.49656000000002,174.91598  \n",
    "201.49656000000002,174.91598,201.49656000000002,44.663833  \n",
    "35.692573,45.607694,201.49656000000002,44.663833  \n",
    "  \n",
    "### Muri interni  \n",
    "88.99446,47.166374,88.99446,81.437446  \n",
    "88.99446,81.437446,88.99446,81.122825  \n",
    "88.99446,81.122825,77.982816,93.392951  \n",
    "77.982816,93.392951,38.104925,93.510933  \n",
    "88.99446,69.612254,110.38852,69.481935  \n",
    "110.38852,69.481935,109.99525,47.222668999999996  \n",
    "110.38852,69.481935,138.07498,69.79655399999999  \n",
    "138.07498,69.79655399999999,138.14808000000002,80.40143799999998  \n",
    "138.14808000000002,80.40143799999998,154.43519000000003,80.17897099999999  \n",
    "154.43519000000003,80.17897099999999,154.43519000000003,80.17897099999999  \n",
    "154.43516,47.15192,155.0644,88.35905199999999  \n",
    "155.0644,88.35905199999999,167.96377,102.83151  \n",
    "167.96377,102.83151,201.0774,102.83151  \n",
    "167.96377,102.83151,167.63007000000002,126.2627  \n",
    "167.63007,126.2627,201.31336,126.1133  \n",
    "178.34619,103.30344,178.34619,126.1133  \n",
    "37.712244,122.02267,123.49306,122.02267  \n",
    "123.49306,122.02267,123.07479,171.84390000000002  \n",
    "37.659311,154.87394,48.723301000000006,154.74362  \n",
    "48.723301000000006,154.74362,48.723301000000006,149.39509999999999  \n",
    "48.723301000000006,149.39509999999999,68.191472,149.3029  \n",
    "68.191472,149.3029,68.22967200000001,122.02320999999999  \n",
    "68.22967200000001,122.02320999999999,67.915062,122.33783  \n",
    "87.42137,122.54127,87.42137,149.39509999999999  \n",
    "87.42137,149.39509999999999,122.99072,149.70971999999998  \n",
    "63.510366,149.48725,63.159220999999995,223.62277999999998  \n",
    "37.954846,174.87922,49.538476,174.87922  \n",
    "67.915022,93.392951,68.229643,122.02326  \n",
    "123.80398,140.2706,145.27224,140.38184  \n",
    "145.27224,140.38184,145.27224,173.86342000000002  \n",
    "139.93299,139.49196,139.93299,126.0326  \n",
    "139.93299,126.0326,167.63007,126.2627  \n",
    "  \n",
    "### Finestre  \n",
    "  \n",
    "35.052357,212.71683,36.7208744,212.71683  \n",
    "36.7208744,212.71683,36.7208744,222.950403  \n",
    "36.7208744,222.950403,35.052357,222.950403  \n",
    "35.052357,222.950403,35.052357,212.71683  \n",
    "67.296867,223.36276,91.65722000000001,223.36276  \n",
    "91.65722000000001,223.36276,91.65722000000001,228.2570772  \n",
    "91.65722000000001,228.2570772,67.296867,228.2570772  \n",
    "67.296867,228.2570772,67.296867,223.36276  \n",
    "34.906857,108.22881,36.791294400000005,108.22881  \n",
    "36.791294400000005,108.22881,36.791294400000005,120.02700899999999  \n",
    "36.791294400000005,120.02700899999999,34.906857,120.02700899999999  \n",
    "34.906857,120.02700899999999,34.906857,108.22881  \n",
    "49.709743,41.545467,74.879234,41.545467  \n",
    "74.879234,41.545467,74.879234,48.212987500000004  \n",
    "74.879234,48.212987500000004,49.709743,48.212987500000004  \n",
    "49.709743,48.212987500000004,49.709743,41.545467  \n",
    "165.80403,40.897144,190.816212,40.897144  \n",
    "190.816212,40.897144,190.816212,48.251157  \n",
    "190.816212,48.251157,165.80403,48.251157  \n",
    "165.80403,48.251157,165.80403,40.897144  \n",
    "200.67271,128.79025,202.53806269999998,128.79025  \n",
    "202.53806269999998,128.79025,202.53806269999998,139.80190199999998  \n",
    "202.53806269999998,139.80190199999998,200.67271,139.80190199999998  \n",
    "200.67271,139.80190199999998,200.67271,128.79025  \n",
    "  \n",
    "### Porte  \n",
    "  \n",
    "153.28113,122.36185,164.404578,122.36185  \n",
    "164.404578,122.36185,164.404578,127.9235742  \n",
    "164.404578,127.9235742,153.28113,127.9235742  \n",
    "153.28113,127.9235742,153.28113,122.36185  \n",
    "142.38014,76.310776,153.058651,76.310776  \n",
    "153.058651,76.310776,153.058651,80.98262480000001  \n",
    "153.058651,80.98262480000001,142.38014,80.98262480000001  \n",
    "142.38014,80.98262480000001,142.38014,76.310776  \n",
    "74.972046,117.69,86.317964,117.69  \n",
    "86.317964,117.69,86.317964,123.6966624  \n",
    "86.317964,123.6966624,74.972046,123.6966624  \n",
    "74.972046,123.6966624,74.972046,117.69  \n",
    "66.740692,133.93024,72.9698232,133.93024  \n",
    "72.9698232,133.93024,72.9698232,145.943565  \n",
    "72.9698232,145.943565,66.740692,145.943565  \n",
    "66.740692,145.943565,66.740692,133.93024  \n",
    "85.873024,133.48531,91.4347482,133.48531  \n",
    "91.4347482,133.48531,91.4347482,145.943572  \n",
    "91.4347482,145.943572,85.873024,145.943572  \n",
    "85.873024,145.943572,85.873024,133.48531  \n",
    "143.49248,158.40182,149.0542042,158.40182  \n",
    "149.0542042,158.40182,149.0542042,170.86008199999998  \n",
    "149.0542042,170.86008199999998,143.49248,170.86008199999998  \n",
    "143.49248,170.86008199999998,143.49248,158.40182  \n",
    "60.734032,195.99908,68.2979768,195.99908  \n",
    "68.2979768,195.99908,68.2979768,208.012405  \n",
    "68.2979768,208.012405,60.734032,208.012405  \n",
    "60.734032,208.012405,60.734032,195.99908  "
   ]
  },
  {
   "cell_type": "markdown",
   "metadata": {},
   "source": [
    "Va comunque messa in risalto la possibilità di modificare il path dei suddetti file .lines, specificando un percorso diverso nella seguente porzione di codice, posizionata all'inizio del workshop svolto."
   ]
  },
  {
   "cell_type": "code",
   "execution_count": 2,
   "metadata": {
    "collapsed": true
   },
   "outputs": [],
   "source": [
    "####### LINES FILE PATHS #######\n",
    "externalWallsLinesPath = \"lines/workshop_08_muri_esterni.lines\"\n",
    "internalWallsLinesPath = \"lines/workshop_08_muri_interni.lines\"\n",
    "windowsLinesPath = \"lines/workshop_08_finestre.lines\"\n",
    "internalDoorsLinesPath = \"lines/workshop_08_porte.lines\"\n",
    "externalDoorsLinesPath = \"lines/workshop_08_porte_esterne.lines\""
   ]
  },
  {
   "cell_type": "markdown",
   "metadata": {},
   "source": [
    "## Descrizione codice\n",
    "Il codice principale si divide in cinque macrosezioni, facilmente identificabili da opportuni commenti nel codice. Ognuna di queste sezioni si occupa di:\n",
    "* creare i muri esterni;\n",
    "* creare i muri interni;\n",
    "* identificare la posizione delle finestre;\n",
    "* identificare la posizione delle porte;\n",
    "* unire il tutto creando il risultato finale."
   ]
  },
  {
   "cell_type": "markdown",
   "metadata": {},
   "source": [
    "### Creazione dei muri esterni\n",
    "<img src=\"jupyter_images/workshop_08_external_walls.png\">  \n",
    "  \n",
    "La seguente porzione di codice estrapola le informazioni riguardanti i muri esterni da relativo file .lines e ne crea a struttura, ottenendo il seguente risultato mostrato in figura."
   ]
  },
  {
   "cell_type": "code",
   "execution_count": null,
   "metadata": {
    "collapsed": true
   },
   "outputs": [],
   "source": [
    "####### EXTERNAL WALLS SECTION #######\n",
    "\n",
    "with open(externalWallsLinesPath, \"rb\") as csvfile:\n",
    "\tcsvReader = csv.reader(csvfile,delimiter=\",\")\n",
    "\texternalWalls_list = []\n",
    "\tfor row in csvReader :\n",
    "\t\texternalWalls_list.append(POLYLINE([[float(row[0]),float(row[1])],[float(row[2]),float(row[3])]]))\n",
    "externalWalls = STRUCT(externalWalls_list)\n",
    "xScale = 16/SIZE([1])(externalWalls)[0]\n",
    "yScale = 16/SIZE([2])(externalWalls)[0]\n",
    "externalWalls = S([1,2])([xScale,yScale])(externalWalls)\n",
    "\n",
    "pavement = SOLIDIFY (externalWalls)\n",
    "pavement = TEXTURE(\"textures/workshop_08_texture_pavimento.jpeg\")(pavement)\n",
    "\n",
    "externalWalls = OFFSET([.15,.15])(externalWalls)\n",
    "externalWalls = PROD([externalWalls,Q(3.5)])"
   ]
  },
  {
   "cell_type": "markdown",
   "metadata": {},
   "source": [
    "### Creazione dei muri interni\n",
    "<img src=\"jupyter_images/workshop_08_internal_walls.png\">  \n",
    "  \n",
    "La seguente porzione di codice estrapola le informazioni riguardanti i muri interni da relativo file .lines e ne crea a struttura, ottenendo il seguente risultato mostrato in figura."
   ]
  },
  {
   "cell_type": "code",
   "execution_count": null,
   "metadata": {
    "collapsed": true
   },
   "outputs": [],
   "source": [
    "####### INTERNAL WALLS SECTION #######\n",
    "\n",
    "with open(internalWallsLinesPath, \"rb\") as csvfile:\n",
    "\tcsvReader = csv.reader(csvfile,delimiter=\",\")\n",
    "\tinternalWalls_list = []\n",
    "\tfor row in csvReader :\n",
    "\t\tinternalWalls_list.append(POLYLINE([[float(row[0]),float(row[1])],[float(row[2]),float(row[3])]]))\n",
    "internalWalls = STRUCT(internalWalls_list)\n",
    "internalWalls = S([1,2])([xScale,yScale])(internalWalls)\n",
    "internalWalls = OFFSET([.1,.1])(internalWalls)\n",
    "internalWalls = PROD([internalWalls,Q(3)])"
   ]
  },
  {
   "cell_type": "markdown",
   "metadata": {},
   "source": [
    "### Localizzazione di porte e finestre\n",
    "Nella trattazione porte e fienstre vengono raggruppate, anche se nel codice sono due porzioni distinte, in quanto eseguono operazioni analoghe. L'immagine seguente è un esempio di ciò che si ottiene partendo dal file .lines delle finestre.\n",
    "\n",
    "<img src=\"jupyter_images/workshop_08_windows.png\">  \n",
    "  \n",
    "Le strutture così create andranno *sottratte* dalla struttura dei muri per creare i vuoti desiderati.  \n",
    "Il codice riportato in seguito è ralativo alla creazione delle finestre mostrate in figura. Per i codice relativo alle porte si rimanda al programma nella sua interezza riportato alla fine di questo notebook."
   ]
  },
  {
   "cell_type": "code",
   "execution_count": null,
   "metadata": {
    "collapsed": true
   },
   "outputs": [],
   "source": [
    "####### WINDOWS SECTION #######\t\n",
    "\n",
    "with open(windowsLinesPath, \"rb\") as csvfile:\n",
    "\tcsvReader = csv.reader(csvfile,delimiter=\",\")\n",
    "\tlistWindowsHoles = []\n",
    "\tlistWindowsCreated = []\n",
    "\tcuboid = []\n",
    "\tcont = 0\n",
    "\tfor row in csvReader:\n",
    "\t\tcont += 1\n",
    "\t\tcuboid.append([float(row[0])*xScale,float(row[1])*yScale])\n",
    "\t\tif cont == 4:\n",
    "\t\t\tlistWindowsHoles.append(MKPOL([cuboid,[[1,2,3,4]],None]))\n",
    "\t\t\tbase = MKPOL([cuboid,[[1,2,3,4]],None])\n",
    "\t\t\tbase = PROD([base,Q(1.5)])\n",
    "\t\t\tcuboid = []\n",
    "\t\t\tcont = 0\n",
    "\n",
    "windows = STRUCT(listWindowsHoles)\n",
    "windows = OFFSET([0.2,0.2])(windows)\n",
    "windows = PROD([windows,Q(1.5)])\n",
    "windows = T(3)(1)(windows)"
   ]
  },
  {
   "cell_type": "markdown",
   "metadata": {},
   "source": [
    "### Composizione della struttura finale\n",
    "Nell'ultima sezione, sempre riportata in seguito, vengono composte tutte le strutture create. Come già accennato i buchi nei muri per porte e finestre vengono ottenuti per differenza tra le strutture dei muri e le strutture delle porte e delle finestre."
   ]
  },
  {
   "cell_type": "code",
   "execution_count": null,
   "metadata": {
    "collapsed": true
   },
   "outputs": [],
   "source": [
    "####### FINAL BUILDING SECTION #######\n",
    "\n",
    "externalWalls = DIFFERENCE([externalWalls,windows])\n",
    "externalWalls = DIFFERENCE([externalWalls,externalDoorsHoles])\n",
    "externalWalls = TEXTURE(\"textures/workshop_08_texture_muro_esterno.jpeg\")(externalWalls)\n",
    "internalWalls = DIFFERENCE([internalWalls,internalDoorsHoles])\n",
    "internalWalls = TEXTURE(\"textures/workshop_08_texture_muro_interno.jpg\")(internalWalls)\n",
    "walls = STRUCT([internalWalls,externalWalls])\n",
    "house = STRUCT([walls,pavement])"
   ]
  },
  {
   "cell_type": "markdown",
   "metadata": {},
   "source": [
    "## Risultato ottenuto\n",
    "L'immagine seguente rappresenta il risultato ottenuto partendo dai file .lines elencati all'inizio del notebook.\n",
    "  \n",
    "<img src=\"jupyter_images/workshop_08_result.png\">  "
   ]
  },
  {
   "cell_type": "markdown",
   "metadata": {},
   "source": [
    "## Programma finale\n",
    "Viene infine riportato nella sua iterezza il programma realizzato."
   ]
  },
  {
   "cell_type": "code",
   "execution_count": 7,
   "metadata": {
    "collapsed": false
   },
   "outputs": [],
   "source": [
    "\"\"\"workshop_08.py\n",
    "creates the 3D map of an house starting from several lines files\n",
    "\n",
    "\"\"\"\n",
    "\n",
    "import csv\n",
    "from pyplasm import *\n",
    "\n",
    "####### LINES FILE PATHS #######\n",
    "externalWallsLinesPath = \"lines/workshop_08_muri_esterni.lines\"\n",
    "internalWallsLinesPath = \"lines/workshop_08_muri_interni.lines\"\n",
    "windowsLinesPath = \"lines/workshop_08_finestre.lines\"\n",
    "internalDoorsLinesPath = \"lines/workshop_08_porte.lines\"\n",
    "externalDoorsLinesPath = \"lines/workshop_08_porte_esterne.lines\"\n",
    "\n",
    "\n",
    "def ggpl_house_builder():\n",
    "\t'''creates the 3D map of an house starting from several lines files\n",
    "\t@return the HPC value of the map\n",
    "\t'''\n",
    "\n",
    "\t####### EXTERNAL WALLS SECTION #######\n",
    "\n",
    "\twith open(externalWallsLinesPath, \"rb\") as csvfile:\n",
    "\t\tcsvReader = csv.reader(csvfile,delimiter=\",\")\n",
    "\t\texternalWalls_list = []\n",
    "\t\tfor row in csvReader :\n",
    "\t\t\texternalWalls_list.append(POLYLINE([[float(row[0]),float(row[1])],[float(row[2]),float(row[3])]]))\n",
    "\texternalWalls = STRUCT(externalWalls_list)\n",
    "\txScale = 16/SIZE([1])(externalWalls)[0]\n",
    "\tyScale = 16/SIZE([2])(externalWalls)[0]\n",
    "\texternalWalls = S([1,2])([xScale,yScale])(externalWalls)\n",
    "\n",
    "\tpavement = SOLIDIFY (externalWalls)\n",
    "\tpavement = TEXTURE(\"textures/workshop_08_texture_pavimento.jpeg\")(pavement)\n",
    "\n",
    "\texternalWalls = OFFSET([.15,.15])(externalWalls)\n",
    "\texternalWalls = PROD([externalWalls,Q(3.5)])\n",
    "\n",
    "\n",
    "\t####### INTERNAL WALLS SECTION #######\n",
    "\n",
    "\twith open(internalWallsLinesPath, \"rb\") as csvfile:\n",
    "\t\tcsvReader = csv.reader(csvfile,delimiter=\",\")\n",
    "\t\tinternalWalls_list = []\n",
    "\t\tfor row in csvReader :\n",
    "\t\t\tinternalWalls_list.append(POLYLINE([[float(row[0]),float(row[1])],[float(row[2]),float(row[3])]]))\n",
    "\tinternalWalls = STRUCT(internalWalls_list)\n",
    "\tinternalWalls = S([1,2])([xScale,yScale])(internalWalls)\n",
    "\tinternalWalls = OFFSET([.1,.1])(internalWalls)\n",
    "\tinternalWalls = PROD([internalWalls,Q(3)])\n",
    "\n",
    "\n",
    "\t####### WINDOWS SECTION #######\t\n",
    "\n",
    "\twith open(windowsLinesPath, \"rb\") as csvfile:\n",
    "\t\tcsvReader = csv.reader(csvfile,delimiter=\",\")\n",
    "\t\tlistWindowsHoles = []\n",
    "\t\tlistWindowsCreated = []\n",
    "\t\tcuboid = []\n",
    "\t\tcont = 0\n",
    "\t\tfor row in csvReader:\n",
    "\t\t\tcont += 1\n",
    "\t\t\tcuboid.append([float(row[0])*xScale,float(row[1])*yScale])\n",
    "\t\t\tif cont == 4:\n",
    "\t\t\t\tlistWindowsHoles.append(MKPOL([cuboid,[[1,2,3,4]],None]))\n",
    "\t\t\t\tbase = MKPOL([cuboid,[[1,2,3,4]],None])\n",
    "\t\t\t\tbase = PROD([base,Q(1.5)])\n",
    "\t\t\t\tcuboid = []\n",
    "\t\t\t\tcont = 0\n",
    "\n",
    "\twindows = STRUCT(listWindowsHoles)\n",
    "\twindows = OFFSET([0.2,0.2])(windows)\n",
    "\twindows = PROD([windows,Q(1.5)])\n",
    "\twindows = T(3)(1)(windows)\n",
    "\n",
    "\n",
    "\t####### DOORS SECTION #######\n",
    "\n",
    "\twith open(internalDoorsLinesPath, \"rb\") as csvfile:\n",
    "\n",
    "\t\tcsvReader = csv.reader(csvfile,delimiter=\",\")\n",
    "\t\tlistInternalDoorsHoles = []\n",
    "\t\tcuboid = []\n",
    "\t\tinitHoles = True\n",
    "\t\tcont = 0\n",
    "\t\txDoors = 0\n",
    "\t\tyDiff = 0\n",
    "\t\tlistInternalDoorsCreated = []\n",
    "\t\tfor row in csvReader:\n",
    "\t\t\tcont += 1\n",
    "\t\t\tcuboid.append([float(row[0])*xScale,float(row[1])*yScale])\n",
    "\t\t\tif cont == 4:\n",
    "\t\t\t\tlistInternalDoorsHoles.append(MKPOL([cuboid,[[1,2,3,4]],None]))\n",
    "\t\t\t\tcuboid = []\n",
    "\t\t\t\tdoor = []\n",
    "\t\t\t\tcont = 0\n",
    "\n",
    "\tinternalDoorsHoles = STRUCT(listInternalDoorsHoles)\n",
    "\tinternalDoorsHoles = OFFSET([.2,.15])(internalDoorsHoles)\n",
    "\tinternalDoorsHoles = PROD([internalDoorsHoles,Q(3)])\n",
    "\n",
    "\twith open(externalDoorsLinesPath,\"rb\") as csvfile:\n",
    "\t\tcsvReader = csv.reader(csvfile, delimiter=\",\")\n",
    "\t\tlistExternalDoorsHoles = []\n",
    "\t\tcuboid = []\n",
    "\t\tinitHoles = True\n",
    "\t\tcont = 0\n",
    "\t\txDiff = 0\n",
    "\t\tyDiff = 0\n",
    "\t\tlistExternalDoorsCreated = []\n",
    "\t\tfor row in csvReader:\n",
    "\t\t\tcont += 1\n",
    "\t\t\tcuboid.append([float(row[0]) * xScale, float(row[1]) * yScale])\n",
    "\t\t\tif cont == 4:\n",
    "\t\t\t\tlistExternalDoorsHoles.append(MKPOL([cuboid, [[1, 2, 3, 4]], None]))\n",
    "\t\t\t\tcuboid = []\n",
    "\t\t\t\tdoor = []\n",
    "\t\t\t\tcont = 0\n",
    "\n",
    "\texternalDoorsHoles = STRUCT(listExternalDoorsHoles)\n",
    "\texternalDoorsHoles = OFFSET([0,.15])(externalDoorsHoles)\n",
    "\texternalDoorsHoles = PROD([externalDoorsHoles,Q(2.5)])\n",
    "\n",
    "\n",
    "\t####### FINAL BUILDING SECTION #######\n",
    "\n",
    "\texternalWalls = DIFFERENCE([externalWalls,windows])\n",
    "\texternalWalls = DIFFERENCE([externalWalls,externalDoorsHoles])\n",
    "\texternalWalls = TEXTURE(\"textures/workshop_08_texture_muro_esterno.jpeg\")(externalWalls)\n",
    "\tinternalWalls = DIFFERENCE([internalWalls,internalDoorsHoles])\n",
    "\tinternalWalls = TEXTURE(\"textures/workshop_08_texture_muro_interno.jpg\")(internalWalls)\n",
    "\twalls = STRUCT([internalWalls,externalWalls])\n",
    "\thouse = STRUCT([walls,pavement])\n",
    "\n",
    "\treturn house\n",
    "\n",
    "def main():\n",
    "\tVIEW(ggpl_house_builder())\n",
    "\n",
    "\n",
    "if __name__ == '__main__':\n",
    "\tmain()\n"
   ]
  }
 ],
 "metadata": {
  "kernelspec": {
   "display_name": "Python 2",
   "language": "python",
   "name": "python2"
  },
  "language_info": {
   "codemirror_mode": {
    "name": "ipython",
    "version": 2
   },
   "file_extension": ".py",
   "mimetype": "text/x-python",
   "name": "python",
   "nbconvert_exporter": "python",
   "pygments_lexer": "ipython2",
   "version": "2.7.12"
  }
 },
 "nbformat": 4,
 "nbformat_minor": 1
}
