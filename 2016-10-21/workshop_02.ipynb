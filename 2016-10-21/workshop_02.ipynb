{
 "cells": [
  {
   "cell_type": "markdown",
   "metadata": {},
   "source": [
    "# Workshop_02"
   ]
  },
  {
   "cell_type": "markdown",
   "metadata": {},
   "source": [
    "Per lo svolgimento del secono workshop si è deciso di prendere spunto dalla figura sottostante."
   ]
  },
  {
   "cell_type": "markdown",
   "metadata": {
    "collapsed": true
   },
   "source": [
    "<img src=\"jupyter_images/workshop_02_picture.jpg\">"
   ]
  },
  {
   "cell_type": "markdown",
   "metadata": {
    "collapsed": true
   },
   "source": [
    "## Dimensioni della figura e file csv\n",
    "I pilastri e le travi sono supposti essere tutti uguali tra loro e aventi ognuno il lato più corto di dimensioni 1.5x1.5.\n",
    "Con riferimento al primo telaio le distanze tra i vari pilastri e tra le varie travi sono state supposte essere 10, mentre le distanze tra i vari telai sono state supposte essere 15.\n",
    "\n",
    "Tutte le distanze di cui sopra sono elencate nel file frame_data_457856.csv (riportato in seguito), con la seguente convenzione:\n",
    "* le righe di posto pari indicano le dimsioni dei telai;  \n",
    "* le righe di posto dispari indicano la distanza tra i telai riportati nella riga superiore e inferiore.\n",
    "\n",
    "Nelle righe di posto pari i dati sono articolati come segue:\n",
    "\"bx,bz,[array con le distanze degli assi dei pilastri],px,py,[array con le distanze interpiano]\",\n",
    "con bx,bz dimensioni della sezione di una trave e px,py dimensioni della sezione di un pilastro."
   ]
  },
  {
   "cell_type": "markdown",
   "metadata": {
    "collapsed": true,
    "raw_mimetype": "text/markdown"
   },
   "source": [
    "1.5,1.5,[,10,10,],1.5,1.5,[,10,10,10,10,10,10,]  \n",
    "15  \n",
    "1.5,1.5,[,10,10,],1.5,1.5,[,10,10,10,10,10,10,]  \n",
    "15  \n",
    "1.5,1.5,[,10,10,],1.5,1.5,[,10,10,10,10,10,10,]  \n",
    "15  \n",
    "1.5,1.5,[,10,10,],1.5,1.5,[,10,10,10,10,10,10,]  \n",
    "15  \n",
    "1.5,1.5,[,10,10,],1.5,1.5,[,10,10,10,10,10,10,]"
   ]
  },
  {
   "cell_type": "markdown",
   "metadata": {},
   "source": [
    "## Lettura del file csv\n",
    "Per la lettura del file csv di cui sopra è stata definita la seguente funzione:"
   ]
  },
  {
   "cell_type": "code",
   "execution_count": 10,
   "metadata": {
    "collapsed": true
   },
   "outputs": [],
   "source": [
    "\"\"\"read data from a csv file\"\"\"\n",
    "def readCSV(file_name):\n",
    "\t\n",
    "\tframeDist = []\n",
    "\twith open(file_name, 'rb') as csvfile:\n",
    "\t\treader = csv.reader(csvfile)\n",
    "\t\ti=0\n",
    "\t\tfor row in reader:\n",
    "\t\t\tif i%2==1:\n",
    "\t\t\t\tframeDist.append(float(row[0]))\n",
    "\t\t\t\ti=i+1\n",
    "\t\t\telif i%2==0:\n",
    "\t\t\t\t(px,py)=(float(row[0]),float(row[1]))\n",
    "\t\t\t\tpillarsDist = []\n",
    "\t\t\t\tj=3\n",
    "\t\t\t\twhile row[j]!=\"]\":\n",
    "\t\t\t\t\tpillarsDist.append(float(row[j]))\n",
    "\t\t\t\t\tj=j+1\n",
    "\t\t\t\t(by,bz)= (float(row[j+1]),float(row[j+2]))\n",
    "\t\t\t\tj= j+4\n",
    "\t\t\t\tbeamsDist = []\n",
    "\t\t\t\twhile row[j]!=\"]\":\n",
    "\t\t\t\t\tbeamsDist.append(float(row[j]))\n",
    "\t\t\t\t\tj=j+1\t\n",
    "\t\t\t\ti=i+1\n",
    "\t\tcsvfile.close()\n",
    "        \n",
    "\treturn (px,py, pillarsDist, by,bz, beamsDist, frameDist)"
   ]
  },
  {
   "cell_type": "markdown",
   "metadata": {},
   "source": [
    "## Creazione della struttura\n",
    "Per la creazione dela struttura è stata definita la funzione riportata in seguito.\n",
    "\n",
    "Il codice si articola in due sezioni principali, identificate da opportuni commenti. Nella prima sezione viene creato un singolo telaio (frame), mentre nella seconda vengono replicati i telai e create le travi tra le varie copie dei telai stessi. Infine viene combinato il tutto per ottenere la strutura finale."
   ]
  },
  {
   "cell_type": "code",
   "execution_count": 3,
   "metadata": {
    "collapsed": true
   },
   "outputs": [],
   "source": [
    "\"\"\"return a 3D value of type HPC of the structure with the given parameters\"\"\"\n",
    "def buildStruct(px,py,pillarsDist,by,bz, beamsDist, frameDist):\n",
    "\n",
    "\t#the following code creates a single frame\n",
    "\tpillarArray = [px]\n",
    "\tfor value in pillarsDist:\n",
    "\t\tpillarArray = pillarArray+[-value]+[px]\n",
    "\txPillar = QUOTE(pillarArray)\n",
    "\tyPillar = QUOTE([py])\n",
    "\txyPillar = PROD([xPillar, yPillar])\n",
    "\theightsPillar = []\n",
    "\tfor value in beamsDist:\n",
    "\t\theightsPillar.append((value+bz))\n",
    "\tzPillar = QUOTE(heightsPillar)\n",
    "\tpillars = PROD([xyPillar, zPillar])\n",
    "\tbeamArray = []\n",
    "\tfor value in pillarArray:\n",
    "\t\tbeamArray.append(-value)\n",
    "\txBeam = QUOTE(beamArray)\n",
    "\tyBeam = QUOTE([by])\n",
    "\txyBeam = PROD([xBeam, yBeam])\n",
    "\tbeamsArrayDist = []\n",
    "\tfor value in beamsDist:\n",
    "\t\tbeamsArrayDist.append(-value)\n",
    "\t\tbeamsArrayDist.append(bz)\n",
    "\tbeams = PROD([xyBeam, QUOTE(beamsArrayDist)])\n",
    "\t#the single frame created\n",
    "\tframe = STRUCT([pillars, beams])\n",
    "\t\n",
    "\t#the following code duplicates the frames and creates the beams between each frame\n",
    "\tframesArrayDist = []\n",
    "\tfor value in frameDist:\n",
    "\t\tframesArrayDist.append(-py)\n",
    "\t\tframesArrayDist.append(value)\n",
    "\tyFrameBeams = QUOTE(framesArrayDist)\n",
    "\txyFrameBeams = PROD([yBeam, yFrameBeams])\n",
    "\txyzFrameBeams = PROD([xyFrameBeams, QUOTE(beamsArrayDist)])\n",
    "\txyzFrame = STRUCT([xyzFrameBeams])\n",
    "\t\n",
    "\taccB = 0\n",
    "\tarrayBeams = []\n",
    "\tfor value in frameDist:\n",
    "\t\taccB+=value\n",
    "\t\tarrayBeams.append(accB)\n",
    "\tdistB=py\n",
    "\tstructFrames=frame\n",
    "\tfor value in arrayBeams:\n",
    "\t\tstructFrames = STRUCT([structFrames, T(2)(value+distB), frame])\n",
    "\t\tdistB+=py\n",
    "\n",
    "\taccP = 0\n",
    "\tarrayPillar = []\n",
    "\tfor value in pillarsDist:\n",
    "\t\taccP+=value\n",
    "\t\tarrayPillar.append(accP)\n",
    "\tdistP=px\n",
    "\tstructBeams= xyzFrame\n",
    "\tfor value in arrayPillar:\n",
    "\t\tstructBeams = STRUCT([structBeams, T(1)(value+distP), xyzFrame])\n",
    "\t\tdistP+=px\n",
    "\n",
    "\t#merge frame and beams to create the final structure\n",
    "\tfinalStruct =  STRUCT([structFrames, structBeams])\n",
    "\n",
    "\treturn finalStruct"
   ]
  },
  {
   "cell_type": "markdown",
   "metadata": {},
   "source": [
    "## Programma finale\n",
    "Le due funzioni precedenti sono state combinate tramite la seguente funzione \"ggpl_bone_structure(csvFileName)\" per ottenere i risultato desiderato.\n",
    "Prima vengono recuperati i dati dal file csv e memorizzati in un adeguata struttura dati \"structureDati\", così da poter in seguito estrarre i singoli parametri da passare alla funzione \"buildStruct\", la quale crea la struttura in 3D, visualizzata infine tramite l'ultima istruzione."
   ]
  },
  {
   "cell_type": "code",
   "execution_count": 4,
   "metadata": {
    "collapsed": true
   },
   "outputs": [],
   "source": [
    "\"\"\"visualize a type HPC of a 3D structure. The data to build the structure are in a csv file given in input\"\"\"\n",
    "def ggpl_bone_structure(csvFileName):\n",
    "\n",
    "\t#read data from the csv file and save them in structureData\n",
    "\tstructureData = readCSV(csvFileName)\n",
    "\t\n",
    "\t#extract eache single parameter for buildStruct from structureData\n",
    "\tpx = structureData[0]\n",
    "\tpy = structureData[1]\n",
    "\tpillarDist = structureData[2]\n",
    "\tby = structureData[3]\n",
    "\tbz = structureData[4]\n",
    "\tbeamDist = structureData[5]\n",
    "\tframeDist = structureData[6]\n",
    "\n",
    "\t#create the structure\n",
    "\tstruct = buildStruct(px,py,pillarDist,by,bz,beamDist,frameDist)\n",
    "\t\n",
    "\t#visualize the structure\n",
    "\tVIEW(struct)"
   ]
  },
  {
   "cell_type": "markdown",
   "metadata": {},
   "source": [
    "### Di seguito sono riportate immagini dei passaggi significativi svolti durante la creazione della struttura finale:\n",
    "\n",
    "#### Singolo telaio\n",
    "<img src=\"jupyter_images/workshop_02_telaio.png\">\n",
    "\n",
    "#### Vari telai replicati\n",
    "<img src=\"jupyter_images/workshop_02_telai.png\">\n",
    "\n",
    "#### Travi tra telai\n",
    "<img src=\"jupyter_images/workshop_02_travi.png\">"
   ]
  },
  {
   "cell_type": "markdown",
   "metadata": {},
   "source": [
    "## Il risultato finale ottenuto  è il seguente:\n",
    "\n",
    "<img src=\"jupyter_images/workshop_02_struttura.png\">"
   ]
  },
  {
   "cell_type": "markdown",
   "metadata": {},
   "source": [
    "### Viene infine riportato il codice completo dell'applicazione creata:"
   ]
  },
  {
   "cell_type": "code",
   "execution_count": 9,
   "metadata": {
    "collapsed": false
   },
   "outputs": [],
   "source": [
    "from larlib import * \n",
    "\n",
    "import csv\n",
    "\n",
    "\"\"\"read data from a csv file\"\"\"\n",
    "def readCSV(file_name):\n",
    "\t\n",
    "\tframeDist = []\n",
    "\twith open(file_name, 'rb') as csvfile:\n",
    "\t\treader = csv.reader(csvfile)\n",
    "\t\ti=0\n",
    "\t\tfor row in reader:\n",
    "\t\t\tif i%2==1:\n",
    "\t\t\t\tframeDist.append(float(row[0]))\n",
    "\t\t\t\ti=i+1\n",
    "\t\t\telif i%2==0:\n",
    "\t\t\t\t(px,py)=(float(row[0]),float(row[1]))\n",
    "\t\t\t\tpillarsDist = []\n",
    "\t\t\t\tj=3\n",
    "\t\t\t\twhile row[j]!=\"]\":\n",
    "\t\t\t\t\tpillarsDist.append(float(row[j]))\n",
    "\t\t\t\t\tj=j+1\n",
    "\t\t\t\t(by,bz)= (float(row[j+1]),float(row[j+2]))\n",
    "\t\t\t\tj= j+4\n",
    "\t\t\t\tbeamsDist = []\n",
    "\t\t\t\twhile row[j]!=\"]\":\n",
    "\t\t\t\t\tbeamsDist.append(float(row[j]))\n",
    "\t\t\t\t\tj=j+1\t\n",
    "\t\t\t\ti=i+1\n",
    "\t\tcsvfile.close()\n",
    "\t\t\n",
    "\treturn (px,py, pillarsDist, by,bz, beamsDist, frameDist)\n",
    "\n",
    "\"\"\"return a 3D value of type HPC of the structure with the given parameters\"\"\"\n",
    "def buildStruct(px,py,pillarsDist,by,bz, beamsDist, frameDist):\n",
    "\n",
    "\t#the following code creates a single frame\n",
    "\tpillarArray = [px]\n",
    "\tfor value in pillarsDist:\n",
    "\t\tpillarArray = pillarArray+[-value]+[px]\n",
    "\txPillar = QUOTE(pillarArray)\n",
    "\tyPillar = QUOTE([py])\n",
    "\txyPillar = PROD([xPillar, yPillar])\n",
    "\theightsPillar = []\n",
    "\tfor value in beamsDist:\n",
    "\t\theightsPillar.append((value+bz))\n",
    "\tzPillar = QUOTE(heightsPillar)\n",
    "\tpillars = PROD([xyPillar, zPillar])\n",
    "\tbeamArray = []\n",
    "\tfor value in pillarArray:\n",
    "\t\tbeamArray.append(-value)\n",
    "\txBeam = QUOTE(beamArray)\n",
    "\tyBeam = QUOTE([by])\n",
    "\txyBeam = PROD([xBeam, yBeam])\n",
    "\tbeamsArrayDist = []\n",
    "\tfor value in beamsDist:\n",
    "\t\tbeamsArrayDist.append(-value)\n",
    "\t\tbeamsArrayDist.append(bz)\n",
    "\tbeams = PROD([xyBeam, QUOTE(beamsArrayDist)])\n",
    "\t#the single frame created\n",
    "\tframe = STRUCT([pillars, beams])\n",
    "\t\n",
    "\t#the following code duplicates the frames and creates the beams between each frame\n",
    "\tframesArrayDist = []\n",
    "\tfor value in frameDist:\n",
    "\t\tframesArrayDist.append(-py)\n",
    "\t\tframesArrayDist.append(value)\n",
    "\tyFrameBeams = QUOTE(framesArrayDist)\n",
    "\txyFrameBeams = PROD([yBeam, yFrameBeams])\n",
    "\txyzFrameBeams = PROD([xyFrameBeams, QUOTE(beamsArrayDist)])\n",
    "\txyzFrame = STRUCT([xyzFrameBeams])\n",
    "\t\n",
    "\taccB = 0\n",
    "\tarrayBeams = []\n",
    "\tfor value in frameDist:\n",
    "\t\taccB+=value\n",
    "\t\tarrayBeams.append(accB)\n",
    "\tdistB=py\n",
    "\tstructFrames=frame\n",
    "\tfor value in arrayBeams:\n",
    "\t\tstructFrames = STRUCT([structFrames, T(2)(value+distB), frame])\n",
    "\t\tdistB+=py\n",
    "\n",
    "\taccP = 0\n",
    "\tarrayPillar = []\n",
    "\tfor value in pillarsDist:\n",
    "\t\taccP+=value\n",
    "\t\tarrayPillar.append(accP)\n",
    "\tdistP=px\n",
    "\tstructBeams= xyzFrame\n",
    "\tfor value in arrayPillar:\n",
    "\t\tstructBeams = STRUCT([structBeams, T(1)(value+distP), xyzFrame])\n",
    "\t\tdistP+=px\n",
    "\n",
    "\t#merge frame and beams to create the final structure\n",
    "\tfinalStruct =  STRUCT([structFrames, structBeams])\n",
    "\n",
    "\treturn finalStruct\n",
    "\n",
    "\"\"\"visualize a type HPC of a 3D structure. The data to build the structure are in a csv file given in input\"\"\"\n",
    "def ggpl_bone_structure(csvFileName):\n",
    "\n",
    "\t#read data from the csv file and save them in structureData\n",
    "\tstructureData = readCSV(csvFileName)\n",
    "\t\n",
    "\t#extract eache single parameter for buildStruct from structureData\n",
    "\tpx = structureData[0]\n",
    "\tpy = structureData[1]\n",
    "\tpillarDist = structureData[2]\n",
    "\tby = structureData[3]\n",
    "\tbz = structureData[4]\n",
    "\tbeamDist = structureData[5]\n",
    "\tframeDist = structureData[6]\n",
    "\n",
    "\t#create the structure\n",
    "\tstruct = buildStruct(px,py,pillarDist,by,bz,beamDist,frameDist)\n",
    "\t\n",
    "\t#visualize the structure\n",
    "\tVIEW(struct)\n",
    "\n",
    "def main():\n",
    "\tggpl_bone_structure('frame_data_457856.csv')\n",
    "\n",
    "if __name__=='__main__':\n",
    "\tmain()"
   ]
  }
 ],
 "metadata": {
  "celltoolbar": "Raw Cell Format",
  "kernelspec": {
   "display_name": "Python 2",
   "language": "python",
   "name": "python2"
  },
  "language_info": {
   "codemirror_mode": {
    "name": "ipython",
    "version": 2
   },
   "file_extension": ".py",
   "mimetype": "text/x-python",
   "name": "python",
   "nbconvert_exporter": "python",
   "pygments_lexer": "ipython2",
   "version": "2.7.12"
  }
 },
 "nbformat": 4,
 "nbformat_minor": 1
}
