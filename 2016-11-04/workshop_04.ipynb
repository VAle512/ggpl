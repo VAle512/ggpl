{
 "cells": [
  {
   "cell_type": "markdown",
   "metadata": {},
   "source": [
    "# Workshop_04"
   ]
  },
  {
   "cell_type": "markdown",
   "metadata": {},
   "source": [
    "## Descrizione dell'applicazione\n",
    "L'applicazione crea un valore HPC di un tetto usando come input due liste dei vertici e delle celle che compongono il tetto stesso.\n",
    "Successivamente l'applicazione estrae nuovamente le stesse liste dal valore HPC appena creato e, dopo opportune operazioni di pulizia dei dati, crea nuovamente l'immagine dello stesso tetto, con alcune migliorie."
   ]
  },
  {
   "cell_type": "markdown",
   "metadata": {},
   "source": [
    "## Tetti in esame\n",
    "<img src=\"jupyter_images/workshop_04_ggpl_all_roofs.png\">  \n",
    "  \n",
    "Per lo svolgimento del workshop vengono presi in esame il primo (Gabled) e il secondo (Gambrel) tetto della figura. Di seguito sono riportate due esempi reali dei due tetti appena proposti.  \n",
    "  \n",
    "<img src=\"jupyter_images/workshop_04_gabled_vero.jpg\" width=640, height=480>  \n",
    "  \n",
    "<img src=\"jupyter_images/workshop_04_gambrel_vero.jpg\" width=640, height=480>  "
   ]
  },
  {
   "cell_type": "markdown",
   "metadata": {},
   "source": [
    "## Creazione del valore HPC inziale\n",
    "<img src=\"jupyter_images/workshop_04_hpc_value.png\">  \n",
    "  \n",
    "L'immagine appena mostrata è creata dalla porzione di codice sottostante e consiste nel valore HPC inizialmente creato dall'applicazione e sul quale andranno effettuate tutte le operazioni di interesse per il programma stesso. Questo valore HPC viene creato prendendo in input due liste contenenti i valori dei vertici e delle celle del tetto."
   ]
  },
  {
   "cell_type": "code",
   "execution_count": 7,
   "metadata": {
    "collapsed": true
   },
   "outputs": [],
   "source": [
    "def hpc_builder(verts,cells):\n",
    "\t'''returns the HPC value of a roof created with the parameters given\n",
    "\t@param verts: List that contain all verts.\n",
    "\t@param cells: List that contain all cells.'''\n",
    "\n",
    "\tstruct = MKPOL([verts, cells,None])\n",
    "\treturn struct"
   ]
  },
  {
   "cell_type": "markdown",
   "metadata": {},
   "source": [
    "## Estrazione dei dati e creazione del nuovo tetto\n",
    "La funzione di interesse per l'applicazione è rappresentata dal codice sottoriportato.  \n",
    "Per prima cosa vengono nuovamente estratte le liste dei vertici e delle celle del tetto. In seguito i valori dei vertici vengono arrotondati alla seconda cifra decimale, grazie alla funzione *verts_rounder*, per eliminare errori dovuti ad un'errata rilevazione della cordinata 0, la quale veniva approssimata con valori aventi ordine di grandezza 10e-7, quindi non nulli. Vengono poi creati il tetto, usando i nuovi valori appena calcolati, e le travi del tetto appena creato. Infine, una volta uniti i due, il risultato viene mostrato a video.  \n",
    "  \n",
    "Viene inoltra creato un dizionario che ha come chiave i vertici e come valore le celle.  \n",
    "  \n",
    "I passaggi vengono indicati da oppportuni commenti nel codice."
   ]
  },
  {
   "cell_type": "code",
   "execution_count": 6,
   "metadata": {
    "collapsed": true
   },
   "outputs": [],
   "source": [
    "def ggpl_roof_builder(roof):\n",
    "\t'''extract verts and cells lists from the given HPC value of a roof and creates a new roof with highlighted beams\n",
    "\t@param roof: HPC value of a roof.'''\n",
    "\n",
    "\t#extract verts and cells values from the HPC\n",
    "\t(verts,cells,n) = UKPOL(SKEL_2(roof))\n",
    "\t#rounds all values in verts\n",
    "\tvertsR = verts_rounder(verts)\n",
    "\t#creates the dictionary\n",
    "\t(dictionary,dictionaryKey) = create_dict(verts,cells)\n",
    "\t#creates the new roof\n",
    "\tnewRoof = MKPOL([vertsR,cells,None])\n",
    "\t#extract the beams of the new roof\n",
    "\tbeams = OFFSET([.1,.1,.1])(SKEL_1(newRoof))\n",
    "\t#paint the beams in black\n",
    "\tbeamsC = COLOR(BLACK)(beams)\n",
    "\n",
    "\tVIEW(STRUCT([newRoof,beamsC]))"
   ]
  },
  {
   "cell_type": "markdown",
   "metadata": {},
   "source": [
    "## Immagini dei singoli passaggi parziali appena eseguiti\n",
    "**Nuovo tetto creato:  **\n",
    "  \n",
    "<img src=\"jupyter_images/workshop_04_nuovo_tetto.png\">    \n",
    "  \n",
    "**Travi del tetto appena creato:  **\n",
    "  \n",
    "<img src=\"jupyter_images/workshop_04_travi.png\">   \n",
    "  \n",
    "**Stesse travi colorate in nero:  **\n",
    "  \n",
    "<img src=\"jupyter_images/workshop_04_travi_nere.png\">  "
   ]
  },
  {
   "cell_type": "markdown",
   "metadata": {},
   "source": [
    "## Risutato finale\n",
    "Vengono qui riprodotti i risultati finali ottenuti per tetti *Gabled* e *Gambrel*.  \n",
    "  \n",
    "**Gabled:  **\n",
    "  \n",
    "<img src=\"jupyter_images/workshop_04_gabled.png\">  \n",
    "  \n",
    "**Gambrel:  **\n",
    "  \n",
    "<img src=\"jupyter_images/workshop_04_gambrel.png\">"
   ]
  },
  {
   "cell_type": "markdown",
   "metadata": {},
   "source": [
    "## Programma finale\n",
    "Viene infine riportato nella sua iterezza il programma realizzato."
   ]
  },
  {
   "cell_type": "code",
   "execution_count": 8,
   "metadata": {
    "collapsed": false
   },
   "outputs": [],
   "source": [
    "\"\"\"workshop_04.py\n",
    "\n",
    "Exract informations from the HPC value of two given roof, creating a copy of them with highlighted beams.\n",
    "\"\"\"\n",
    "\n",
    "from larlib import *\n",
    "from ast import literal_eval\n",
    "\n",
    "def hpc_builder(verts,cells):\n",
    "\t'''returns the HPC value of a roof created with the parameters given\n",
    "\t@param verts: List that contain all verts.\n",
    "\t@param cells: List that contain all cells.'''\n",
    "\n",
    "\tstruct = MKPOL([verts, cells,None])\n",
    "\treturn struct\n",
    "\n",
    "def verts_rounder(verts):\n",
    "\t'''round all the values given in input to the 2nd decimal\n",
    "\t@param verts: List of values to round.'''\n",
    "\n",
    "\tvertsR = []\n",
    "\tfor i in range(len(verts)):\n",
    "\t\tlistTemp = verts[i]\n",
    "\t\tfor j in range(len(listTemp)):\n",
    "\t\t\tlistTemp[j] = round(listTemp[j],2)\n",
    "\t\tvertsR.append(listTemp)\n",
    "\treturn vertsR\n",
    "\n",
    "\n",
    "def create_dict(verts,cells):\n",
    "\t'''creates a dictionary containing the cells and using verts as key\n",
    "\t@param verts: List that contain all verts.\n",
    "\t@param cells: List that contain all cells.'''\n",
    "\n",
    "\tdct={}\n",
    "\tdictKey=[]\n",
    "\t\n",
    "\ti=1\n",
    "\tfor v in verts:\n",
    "\t\t#string type keys\n",
    "\t\tkey=\",\".join(str(x) for x in v)\n",
    "\t\tif not key in dct.keys():\n",
    "\t\t\tdct[key]=[i]\n",
    "\t\telse: \n",
    "\t\t\tdct.get(key).append(i)\n",
    "\t\ti+=1\n",
    "\n",
    "\tfor key in dct.keys():\n",
    "\t\tdictKey.append(literal_eval(key))\n",
    "\n",
    "\treturn (dct,dictKey)\n",
    "\n",
    "def ggpl_roof_builder(roof):\n",
    "\t'''extract verts and cells lists from the given HPC value of a roof and creates a new roof with highlighted beams\n",
    "\t@param roof: HPC value of a roof.'''\n",
    "\n",
    "\t#extract verts and cells values from the HPC\n",
    "\t(verts,cells,n) = UKPOL(SKEL_2(roof))\n",
    "\t#rounds all values in verts\n",
    "\tvertsR = verts_rounder(verts)\n",
    "\t#creates the dictionary\n",
    "\t(dictionary,dictionaryKey) = create_dict(verts,cells)\n",
    "\t#creates the new roof\n",
    "\tnewRoof = MKPOL([vertsR,cells,None])\n",
    "\t#extract the beams of the new roof\n",
    "\tbeams = OFFSET([.1,.1,.1])(SKEL_1(newRoof))\n",
    "\t#paint the beams in black\n",
    "\tbeamsB = COLOR(BLACK)(beams)\n",
    "\n",
    "\tVIEW(STRUCT([newRoof,beamsB]))\n",
    "\n",
    "def main():\n",
    "\n",
    "\t#Gabled roof\n",
    "\tverts = [[0,0,0],[6,0,0],[0,7,0],[6,7,0],[3,0,3],[3,7,3]]\n",
    "\tcells = [[1,2,5],[1,3,5,6],[3,4,6],[2,4,5,6]]\n",
    "\thpc = hpc_builder(verts,cells)\n",
    "\tggpl_roof_builder(hpc)\n",
    "\n",
    "\t#Gambrel roof\n",
    "\tverts2=[[0,0,0],[4,0,5],[4,24,5],[0,24,0],[12,0,8],[12,24,8],[20,0,5],[20,24,5],[24,0,0],[24,24,0]]\n",
    "\tcells2=[[1,2,3,4],[2,3,6,5],[5,6,8,7],[7,8,10,9],[1,2,5,7,9],[3,4,6,8,10]]\n",
    "\thpc2 = hpc_builder(verts2,cells2)\n",
    "\tggpl_roof_builder(hpc2)\n",
    "\n",
    "if __name__ == '__main__':\n",
    "\tmain()\n"
   ]
  }
 ],
 "metadata": {
  "kernelspec": {
   "display_name": "Python 2",
   "language": "python",
   "name": "python2"
  },
  "language_info": {
   "codemirror_mode": {
    "name": "ipython",
    "version": 2
   },
   "file_extension": ".py",
   "mimetype": "text/x-python",
   "name": "python",
   "nbconvert_exporter": "python",
   "pygments_lexer": "ipython2",
   "version": "2.7.12"
  }
 },
 "nbformat": 4,
 "nbformat_minor": 1
}
