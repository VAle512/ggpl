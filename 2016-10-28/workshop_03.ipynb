{
 "cells": [
  {
   "cell_type": "markdown",
   "metadata": {},
   "source": [
    "# Workshop_03"
   ]
  },
  {
   "cell_type": "markdown",
   "metadata": {
    "collapsed": true
   },
   "source": [
    "<img src=\"jupyter_images/workshop_03_picture.png\">"
   ]
  },
  {
   "cell_type": "markdown",
   "metadata": {},
   "source": [
    "## Descrizione dell'applicazione\n",
    "L'applicazione crea una scala, prendendo spunto dalla figura sovrastante, e inserendola in una scatola immaginaria, della quale vengono mostrati solo gli spigoli.\n",
    "Vengono passati in input al prgramma tre parametri (in metri):\n",
    "* dx: larghezza della scatola;\n",
    "* dy: altezza della scatola;\n",
    "* dz: profondità della scatola.  \n",
    "\n",
    "Per la creazione del risultato finale si fa uso di una funzione di supporto, *ggpl_u_shaped_stair_support(dx,dy,dz,stepsNumber)*, riportata interamente in seguito. Questa funzione prende in input gli stessi parametri di cui sopra, trasformati in centimetri, con l'aggiunta del numero degli scalini di ogni rampa di scale. Ai fini dell'esecuzione del programma qui riportata il numero di scalini è impostato a 8."
   ]
  },
  {
   "cell_type": "code",
   "execution_count": 5,
   "metadata": {
    "collapsed": true
   },
   "outputs": [],
   "source": [
    "def ggpl_u_shaped_stair(dx,dy,dz):\n",
    "\t\"\"\"\n",
    "\tfunction that creates a u shaped stairs inside a box according to given parameters (in meters) and 8 steps per flight\n",
    "\n",
    "\t@param dx: box's length\n",
    "\t@param dy: box's width\n",
    "\t@param dz: box's height\t\n",
    "\t\"\"\"\n",
    "\n",
    "\t#trasforms the given parameters from meters to centimeters\n",
    "\tdxCm = dx * 100\n",
    "\tdyCm = dy * 100\n",
    "\tdzCm = dz * 100\n",
    "\n",
    "\tstepsNumber = 8\n",
    "\n",
    "\tggpl_u_shaped_stair_support(dxCm,dyCm,dzCm,stepsNumber)"
   ]
  },
  {
   "cell_type": "markdown",
   "metadata": {},
   "source": [
    "## Creazione della sruttura finale\n",
    "Viene qui riportata una descrizione sommaria, arricchita da immagini, dei vari passaggi eseguiti per poter creare la struttura finale.  \n",
    "  \n",
    "**Per prima cosa viene creato un singolo scalino, ottenendo il risultato mostrato in figura.**\n",
    "  \n",
    "<img src=\"jupyter_images/workshop_03_scalino.png\">  \n",
    "  \n",
    "**Viene quindi riprodotto lo scalino appena creato per creare la prima rampa di scale, ottenendo il seguente risultato:  **\n",
    "  \n",
    "<img src=\"jupyter_images/workshop_03_rampa1.png\">  \n",
    "  \n",
    "**Alla rampa di scale appena creata viene aggiunto il seguente pianerottolo:  **\n",
    "  \n",
    "<img src=\"jupyter_images/workshop_03_pianerottolo.png\">  \n",
    "  \n",
    "**Ottenendo qunindi la seguente struttura temporanea:  **\n",
    "  \n",
    "<img src=\"jupyter_images/workshop_03_rampa1_pianerottolo.png\">  \n",
    "  \n",
    "**Successivamente viene aggiunta alla struttura la seconda rampa, ottenuta sempre partendo dallo scalino mostrato in precendenza.  **\n",
    "  \n",
    "<img src=\"jupyter_images/workshop_03_scala_finale.png\">  \n",
    "  \n",
    "**Vengono infine creati i bordi della scatola immaginaria che deve contenere la struttura appena creata.  **\n",
    "  \n",
    "<img src=\"jupyter_images/workshop_03_scatola.png\">  "
   ]
  },
  {
   "cell_type": "markdown",
   "metadata": {},
   "source": [
    "## Funzione per la creazione della struttura\n",
    "I passaggi appena riassunti sono implementati dalla seguente funzione. Gli stessi sono identificabili nel codice tramite opportuni commenti."
   ]
  },
  {
   "cell_type": "code",
   "execution_count": 6,
   "metadata": {
    "collapsed": true
   },
   "outputs": [],
   "source": [
    "def ggpl_u_shaped_stair_support(dx,dy,dz,stepsNumber):\n",
    "\t\"\"\"\n",
    "\tfunction that creates a u shaped stairs inside a box according to given parameters (measures are supposed to be in centimeters)\n",
    "\n",
    "\t@param dx: box's length\n",
    "\t@param dy: box's width\n",
    "\t@param dz: box's height\n",
    "\t@param stepsNumber: number of steps per flight\n",
    "\t\"\"\"\n",
    "\n",
    "\t#creates a single step\n",
    "\tstepX=dx/2\n",
    "\tstepY=dy/(stepsNumber*2)\n",
    "\tstepZ=dz/11\n",
    "\tstep=CUBOID([stepX,stepY,stepZ])\n",
    "\tflight1=step\n",
    "\n",
    "\t#creates the first flight\n",
    "\taccZ=stepZ\n",
    "\taccY=stepY\n",
    "\twhile accZ<(stepZ*stepsNumber):\n",
    "\t\tstepTemp=T(2)(accY)(step)\n",
    "\t\taccY+=stepY\n",
    "\t\tflight1=STRUCT([flight1,T(3)(accZ),stepTemp])\n",
    "\t\taccZ+=stepZ\n",
    "\n",
    "\t#creates the platform and links it to the first flight\n",
    "\tplatform=CUBOID([dx,stepsNumber*stepY,stepZ])\n",
    "\tplatform=T(2)(accY)(platform)\n",
    "\tstairs=STRUCT([flight1,T(3)(accZ),platform])\n",
    "\taccZ+=stepZ\n",
    "\n",
    "\t#creates the second flight\n",
    "\tflight2=flight1\t\n",
    "\tflight2=R([1,2])(PI)(flight2)\n",
    "\tflight2=T(1)(stepX*2)(flight2)\n",
    "\tflight2=T(2)(stepsNumber*stepY)(flight2)\n",
    "\tflight2=T(3)(accZ)(flight2)\n",
    "\tstairs=STRUCT([stairs,flight2])\t\n",
    "\n",
    "\t#creates the box\n",
    "\tbox = SKEL_1(BOX([1,2,3])(stairs))\n",
    "\n",
    "\t#creates and visualizes the structure\n",
    "\tVIEW(STRUCT([stairs, box]))"
   ]
  },
  {
   "cell_type": "markdown",
   "metadata": {
    "collapsed": true
   },
   "source": [
    "## Esecuzioni\n",
    "Il programma viene eseguito passando come input le seguenti terne (dx,dy,dx):\n",
    "* (2,5,3.5)\n",
    "* (2,9,5)\n",
    "  \n",
    "Ottenendo rispettivamente i seguenti risultati:  \n",
    "  \n",
    "<img src=\"jupyter_images/workshop_03_esecuzione1.png\">  \n",
    "  \n",
    "<img src=\"jupyter_images/workshop_03_esecuzione2.png\"> "
   ]
  },
  {
   "cell_type": "markdown",
   "metadata": {},
   "source": [
    "## Programma finale\n",
    "Viene infine riportato nella sua iterezza il programma realizzato."
   ]
  },
  {
   "cell_type": "code",
   "execution_count": 2,
   "metadata": {
    "collapsed": true
   },
   "outputs": [],
   "source": [
    "\"\"\"workshop_03.py\n",
    "\n",
    "Creates two different images of an u-shaped stair inside and invisible box, given two different sets of actual parameters.\n",
    "\"\"\"\n",
    "from larlib import *\n",
    "\n",
    "def ggpl_u_shaped_stair_support(dx,dy,dz,stepsNumber):\n",
    "\t\"\"\"\n",
    "\tfunction that creates a u shaped stairs inside a box according to given parameters (measures are supposed to be in centimeters)\n",
    "\n",
    "\t@param dx: box's length\n",
    "\t@param dy: box's width\n",
    "\t@param dz: box's height\n",
    "\t@param stepsNumber: number of steps per flight\n",
    "\t\"\"\"\n",
    "\n",
    "\t#creates a single step\n",
    "\tstepX=dx/2\n",
    "\tstepY=dy/(stepsNumber*2)\n",
    "\tstepZ=dz/11\n",
    "\tstep=CUBOID([stepX,stepY,stepZ])\n",
    "\tflight1=step\n",
    "\n",
    "\t#creates the first flight\n",
    "\taccZ=stepZ\n",
    "\taccY=stepY\n",
    "\twhile accZ<(stepZ*stepsNumber):\n",
    "\t\tstepTemp=T(2)(accY)(step)\n",
    "\t\taccY+=stepY\n",
    "\t\tflight1=STRUCT([flight1,T(3)(accZ),stepTemp])\n",
    "\t\taccZ+=stepZ\n",
    "\n",
    "\t#creates the platform and links it to the first flight\n",
    "\tplatform=CUBOID([dx,stepsNumber*stepY,stepZ])\n",
    "\tplatform=T(2)(accY)(platform)\n",
    "\tstairs=STRUCT([flight1,T(3)(accZ),platform])\n",
    "\taccZ+=stepZ\n",
    "\n",
    "\t#creates the second flight\n",
    "\tflight2=flight1\t\n",
    "\tflight2=R([1,2])(PI)(flight2)\n",
    "\tflight2=T(1)(stepX*2)(flight2)\n",
    "\tflight2=T(2)(stepsNumber*stepY)(flight2)\n",
    "\tflight2=T(3)(accZ)(flight2)\n",
    "\tstairs=STRUCT([stairs,flight2])\t\n",
    "\n",
    "\t#creates the box\n",
    "\tbox = SKEL_1(BOX([1,2,3])(stairs))\n",
    "\n",
    "\t#creates and visualizes the structure\n",
    "\tVIEW(STRUCT([stairs, box]))\n",
    "\n",
    "def ggpl_u_shaped_stair(dx,dy,dz):\n",
    "\t\"\"\"\n",
    "\tfunction that creates a u shaped stairs inside a box according to given parameters (in meters) and 8 steps per flight\n",
    "\n",
    "\t@param dx: box's length\n",
    "\t@param dy: box's width\n",
    "\t@param dz: box's height\t\n",
    "\t\"\"\"\n",
    "\n",
    "\t#trasforms the given parameters from meters to centimeters\n",
    "\tdxCm = dx * 100\n",
    "\tdyCm = dy * 100\n",
    "\tdzCm = dz * 100\n",
    "\n",
    "\tstepsNumber = 8\n",
    "\n",
    "\tggpl_u_shaped_stair_support(dxCm,dyCm,dzCm,stepsNumber)\n",
    "\n",
    "if __name__=='__main__':\n",
    "\tggpl_u_shaped_stair(2,5,3.5)\n",
    "\tggpl_u_shaped_stair(2,9,5)\n"
   ]
  }
 ],
 "metadata": {
  "celltoolbar": "Raw Cell Format",
  "kernelspec": {
   "display_name": "Python 2",
   "language": "python",
   "name": "python2"
  },
  "language_info": {
   "codemirror_mode": {
    "name": "ipython",
    "version": 2
   },
   "file_extension": ".py",
   "mimetype": "text/x-python",
   "name": "python",
   "nbconvert_exporter": "python",
   "pygments_lexer": "ipython2",
   "version": "2.7.12"
  }
 },
 "nbformat": 4,
 "nbformat_minor": 1
}
